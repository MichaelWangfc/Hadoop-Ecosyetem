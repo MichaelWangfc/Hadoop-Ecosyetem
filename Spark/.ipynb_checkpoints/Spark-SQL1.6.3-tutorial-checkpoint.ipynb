{
 "cells": [
  {
   "cell_type": "code",
   "execution_count": null,
   "metadata": {
    "collapsed": true
   },
   "outputs": [],
   "source": [
    "from pandas import Series\n",
    "from pandas import DataFrame\n",
    "pd.options.display.mpl_style = 'default'\n",
    "\n",
    "import matplotlib.pyplot as plt\n",
    "%matplotlib inline  \n",
    "import seaborn as sns\n",
    "sns.set_context(\"talk\")"
   ]
  },
  {
   "cell_type": "markdown",
   "metadata": {},
   "source": [
    "## Spark SQL\n",
    "Spark SQL is a Spark module for structured data processing\n",
    "![IPython](Image/sparksql-log1.jpg \"IPython\")"
   ]
  },
  {
   "cell_type": "markdown",
   "metadata": {},
   "source": [
    "### Agenda\n",
    "- Spark SQL features\n",
    "- Spark SQL components\n",
    "- SchemaRDD\n",
    "\n",
    "- Spark SQL example\n",
    "\n",
    "- Spark SQL VS Hive\n",
    "- Spark SQL flow dagram\n",
    "- Spark SQL architecture\n",
    "- Spark SQL libaries\n",
    "\n",
    "referecne:\n",
    "https://spark.apache.org/docs/1.6.3/sql-programming-guide.html"
   ]
  },
  {
   "cell_type": "markdown",
   "metadata": {},
   "source": [
    "### Analytics the Old Way\n",
    "Put the data into an RDBMS\n",
    "\n",
    "- Pros: High level query language, optimized execution engine\n",
    "\n",
    "- Cons: Have to ETL the data in, some analysis is hard to do in SQL, doesn’t scale"
   ]
  },
  {
   "cell_type": "markdown",
   "metadata": {},
   "source": [
    "### Analytics the New Way\n",
    "Map/Reduce, etc\n",
    "- Pros: Full featured programming language,\n",
    "easy parallelism\n",
    "- Cons: Difficult to do ad-hoc analysis,\n",
    "optimizations are left up to the developer."
   ]
  },
  {
   "cell_type": "markdown",
   "metadata": {},
   "source": [
    "### SQL on HDFS\n",
    "Put the data into a （not RDBMS） ***HDFS***\n",
    "- Pros: High level query language, optimized execution engine\n",
    "- Cons: (Have to ETL the data in,） some analysis is hard to do in SQL,（ doesn’t scale HDFS）"
   ]
  },
  {
   "cell_type": "markdown",
   "metadata": {},
   "source": [
    "## Spark SQL features\n",
    "![IPython](Image/sparksql-feature1.jpg \"IPython\")"
   ]
  },
  {
   "cell_type": "markdown",
   "metadata": {},
   "source": [
    "![IPython](Image/sparksql-feature2.jpg \"IPython\")"
   ]
  },
  {
   "cell_type": "markdown",
   "metadata": {},
   "source": [
    "![IPython](Image/sparksql-feature3.jpg \"IPython\")"
   ]
  },
  {
   "cell_type": "markdown",
   "metadata": {},
   "source": [
    "## Spark SQL components\n",
    "![IPython](Image/sparksql-components1.png \"IPython\")"
   ]
  },
  {
   "cell_type": "markdown",
   "metadata": {},
   "source": [
    "## SchemaRDD\n",
    "Adding Schema to RDDs\n",
    "![IPython](Image/sparksql-schema-rdd1.png \"IPython\")"
   ]
  },
  {
   "cell_type": "markdown",
   "metadata": {},
   "source": [
    "### RDDs into Relations (Python)"
   ]
  },
  {
   "cell_type": "code",
   "execution_count": null,
   "metadata": {
    "collapsed": true
   },
   "outputs": [],
   "source": [
    "# Load a text file and convert each line to a dictionary.\n",
    "lines = sc.textFile(\"examples/…/people.txt\")\n",
    "parts = lines.map(lambda l: l.split(\",\"))\n",
    "people = parts.map(lambda p:{\"name\": p[0],\"age\": int(p[1])})\n",
    "\n",
    "# Infer the schema, and register the SchemaRDD as a table\n",
    "peopleTable = sqlCtx.inferSchema(people)\n",
    "peopleTable.registerAsTable(\"people\")"
   ]
  },
  {
   "cell_type": "code",
   "execution_count": null,
   "metadata": {
    "collapsed": true
   },
   "outputs": [],
   "source": []
  },
  {
   "cell_type": "markdown",
   "metadata": {},
   "source": [
    "Spark SQL VS Hive\n",
    "![IPython](Image/sparksql-vs-hive1.jpg \"IPython\")"
   ]
  },
  {
   "cell_type": "markdown",
   "metadata": {},
   "source": [
    "Spark SQL VS Hive\n",
    "![IPython](Image/sparksql-vs-hive2.jpg \"IPython\")"
   ]
  },
  {
   "cell_type": "markdown",
   "metadata": {},
   "source": [
    "Spark SQL flow dagram\n",
    "![IPython](Image/sparksql-flow-dagram2.jpg \"IPython\")"
   ]
  },
  {
   "cell_type": "markdown",
   "metadata": {},
   "source": [
    "Spark SQL architecture\n",
    "![IPython](Image/sparksql-architecture1.jpg \"IPython\")"
   ]
  },
  {
   "cell_type": "markdown",
   "metadata": {},
   "source": [
    "Spark SQL Libararies\n",
    "![IPython](Image/sparksql-lib1.png \"IPython\")"
   ]
  },
  {
   "cell_type": "markdown",
   "metadata": {},
   "source": [
    "Spark SQL data source API\n",
    "![IPython](Image/sparksql-datasource-api1.png \"IPython\")"
   ]
  },
  {
   "cell_type": "markdown",
   "metadata": {},
   "source": [
    " Spark SQL data frame API\n",
    "![IPython](Image/sparksql-dataframe-api1.jpg \"IPython\")"
   ]
  },
  {
   "cell_type": "markdown",
   "metadata": {},
   "source": [
    "Spark SQL Interpreter and Optimizer\n",
    "![IPython](Image/sparksql-interpreter1.jpg \"IPython\")"
   ]
  },
  {
   "cell_type": "markdown",
   "metadata": {},
   "source": [
    "Spark SQL Service\n",
    "![IPython](Image/sparksql-service1.png \"IPython\")"
   ]
  },
  {
   "cell_type": "code",
   "execution_count": null,
   "metadata": {
    "collapsed": true
   },
   "outputs": [],
   "source": []
  }
 ],
 "metadata": {
  "kernelspec": {
   "display_name": "Python [default]",
   "language": "python",
   "name": "python3"
  },
  "language_info": {
   "codemirror_mode": {
    "name": "ipython",
    "version": 3
   },
   "file_extension": ".py",
   "mimetype": "text/x-python",
   "name": "python",
   "nbconvert_exporter": "python",
   "pygments_lexer": "ipython3",
   "version": "3.6.0"
  }
 },
 "nbformat": 4,
 "nbformat_minor": 2
}
